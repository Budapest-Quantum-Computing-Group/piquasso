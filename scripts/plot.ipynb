{
 "cells": [
  {
   "cell_type": "code",
   "execution_count": 1,
   "metadata": {},
   "outputs": [],
   "source": [
    "import matplotlib.pyplot as plt\n",
    "import pandas as pd\n",
    "\n",
    "\n",
    "def plot(filepath: str, name: str, export_name: str):\n",
    "    df = pd.read_csv(filepath)\n",
    "\n",
    "    iterations = df['iteration']\n",
    "    loss = df['loss']\n",
    "\n",
    "    plt.figure()\n",
    "    plt.title(name)\n",
    "\n",
    "    plt.plot(iterations, loss)\n",
    "    plt.xlabel('Iteration', fontsize=12)\n",
    "    plt.ylabel('Loss', fontsize=12)\n",
    "    plt.savefig(export_name)\n"
   ]
  },
  {
   "cell_type": "code",
   "execution_count": null,
   "metadata": {},
   "outputs": [],
   "source": [
    "params = [\n",
    "    {\n",
    "        \"filepath\": \"losses_cz_perfect.csv\",\n",
    "        \"name\": \"CZ perfect\",\n",
    "        \"export_name\": \"cz_perfect.pdf\"\n",
    "    },\n",
    "    {\n",
    "        \"filepath\": \"losses_cz_imperfect.csv\",\n",
    "        \"name\": \"CZ imperfect\",\n",
    "        \"export_name\": \"cz_imperfect.pdf\"\n",
    "    },\n",
    "\n",
    "]\n",
    "\n",
    "for param in params:\n",
    "    plot(**param)"
   ]
  }
 ],
 "metadata": {
  "kernelspec": {
   "display_name": "piquasso",
   "language": "python",
   "name": "python3"
  },
  "language_info": {
   "codemirror_mode": {
    "name": "ipython",
    "version": 3
   },
   "file_extension": ".py",
   "mimetype": "text/x-python",
   "name": "python",
   "nbconvert_exporter": "python",
   "pygments_lexer": "ipython3",
   "version": "3.10.12"
  }
 },
 "nbformat": 4,
 "nbformat_minor": 2
}
