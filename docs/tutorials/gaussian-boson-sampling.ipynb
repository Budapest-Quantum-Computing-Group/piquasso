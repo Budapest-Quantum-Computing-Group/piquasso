{
 "cells": [
  {
   "cell_type": "markdown",
   "metadata": {},
   "source": [
    "# Gaussian Boson Sampling"
   ]
  },
  {
   "cell_type": "markdown",
   "metadata": {},
   "source": [
    "Gaussian Boson Sampling can be performed as shown by the following example:"
   ]
  },
  {
   "cell_type": "code",
   "execution_count": 1,
   "metadata": {},
   "outputs": [
    {
     "name": "stdout",
     "output_type": "stream",
     "text": [
      "Samples: [(3, 1, 2, 4, 4), (0, 1, 0, 0, 1), (0, 0, 0, 0, 0), (2, 2, 0, 4, 4), (0, 0, 0, 1, 1)]\n"
     ]
    }
   ],
   "source": [
    "import numpy as np\n",
    "import piquasso as pq\n",
    "\n",
    "\n",
    "d = 5\n",
    "shots = 5\n",
    "\n",
    "A = np.array(\n",
    "    [\n",
    "        [0, 1, 0, 1, 1],\n",
    "        [1, 0, 0, 0, 1],\n",
    "        [0, 0, 0, 1, 0],\n",
    "        [1, 0, 1, 0, 1],\n",
    "        [1, 1, 0, 1, 0],\n",
    "    ]\n",
    ")\n",
    "\n",
    "with pq.Program() as gaussian_boson_sampling:\n",
    "    pq.Q(all) | pq.Graph(A)\n",
    "\n",
    "    pq.Q(all) | pq.ParticleNumberMeasurement()\n",
    "\n",
    "\n",
    "simulator = pq.GaussianSimulator(d=d)\n",
    "\n",
    "result = simulator.execute(gaussian_boson_sampling, shots=shots)\n",
    "\n",
    "print(\"Samples:\", result.samples)"
   ]
  },
  {
   "cell_type": "markdown",
   "metadata": {},
   "source": [
    "The generated samples could be used to acquire some denser subgraphs of the generated graph with"
   ]
  },
  {
   "cell_type": "code",
   "execution_count": 2,
   "metadata": {},
   "outputs": [
    {
     "name": "stdout",
     "output_type": "stream",
     "text": [
      "Subgraphs: [[0, 0, 0, 1, 2, 2, 3, 3, 3, 3, 4, 4, 4, 4], [1, 4], [], [0, 0, 1, 1, 3, 3, 3, 3, 4, 4, 4, 4], [3, 4]]\n"
     ]
    }
   ],
   "source": [
    "print(\"Subgraphs:\", result.to_subgraph_nodes())"
   ]
  }
 ],
 "metadata": {
  "interpreter": {
   "hash": "9a666e8b1cfb18010a57d7338eef2aa07a864f68c70adc54bdde5a86d8f5ca55"
  },
  "kernelspec": {
   "display_name": "Python 3.8.10 64-bit ('.venv': venv)",
   "name": "python3"
  },
  "language_info": {
   "codemirror_mode": {
    "name": "ipython",
    "version": 3
   },
   "file_extension": ".py",
   "mimetype": "text/x-python",
   "name": "python",
   "nbconvert_exporter": "python",
   "pygments_lexer": "ipython3",
   "version": "3.10.13"
  }
 },
 "nbformat": 4,
 "nbformat_minor": 5
}
