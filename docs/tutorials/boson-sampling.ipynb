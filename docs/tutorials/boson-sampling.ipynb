{
 "cells": [
  {
   "cell_type": "markdown",
   "id": "damaged-venice",
   "metadata": {},
   "source": [
    "# Boson Sampling"
   ]
  },
  {
   "cell_type": "code",
   "execution_count": 2,
   "id": "antique-radiation",
   "metadata": {},
   "outputs": [
    {
     "output_type": "stream",
     "name": "stdout",
     "text": [
      "[<Result instruction=<pq.Sampling(shots=5, modes=(0, 1, 2, 3))> samples=[array([0, 1, 0, 1]), array([1, 0, 0, 1]), array([1, 0, 0, 1]), array([0, 1, 0, 1]), array([0, 1, 0, 1])]>]\n"
     ]
    }
   ],
   "source": [
    "import numpy as np\n",
    "import piquasso as pq\n",
    "\n",
    "\n",
    "with pq.Program() as program:\n",
    "    pq.Q() | pq.SamplingState(d=4) | pq.OccupationNumbers((0, 1, 1, 0))\n",
    "\n",
    "    pq.Q(0, 1) | pq.Beamsplitter(theta=np.pi / 3, phi=np.pi / 4)\n",
    "\n",
    "    pq.Q(2, 3) | pq.Beamsplitter(theta=np.pi / 2, phi=np.pi / 3)\n",
    "\n",
    "    pq.Q() | pq.Sampling(shots=5)\n",
    "\n",
    "results = program.execute()\n",
    "\n",
    "print(results)"
   ]
  },
  {
   "cell_type": "code",
   "execution_count": null,
   "metadata": {},
   "outputs": [],
   "source": []
  }
 ],
 "metadata": {
  "kernelspec": {
   "name": "python383jvsc74a57bd0d61c92716daac777007c874496ae5fa72830967fb20d451296f287597501ccdb",
   "display_name": "Python 3.8.3 64-bit ('3.8.3': pyenv)"
  },
  "language_info": {
   "codemirror_mode": {
    "name": "ipython",
    "version": 3
   },
   "file_extension": ".py",
   "mimetype": "text/x-python",
   "name": "python",
   "nbconvert_exporter": "python",
   "pygments_lexer": "ipython3",
   "version": "3.8.3"
  }
 },
 "nbformat": 4,
 "nbformat_minor": 5
}