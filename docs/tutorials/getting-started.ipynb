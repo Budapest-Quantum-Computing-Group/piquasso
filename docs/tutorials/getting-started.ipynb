{
 "cells": [
  {
   "cell_type": "markdown",
   "id": "a66a4f7d",
   "metadata": {},
   "source": [
    "# Getting Started\n",
    "\n",
    "If you have Piquasso installed, open a file or a terminal, and just type"
   ]
  },
  {
   "cell_type": "code",
   "execution_count": 1,
   "id": "3abcce3d",
   "metadata": {},
   "outputs": [],
   "source": [
    "import numpy as np\n",
    "import piquasso as pq\n",
    "\n",
    "with pq.Program() as program:\n",
    "    pq.Q(0) | pq.Displacement(alpha=1 + 1j)  # Displace the state on mode 0\n",
    "    pq.Q(0, 1) | pq.Beamsplitter(\n",
    "        theta=0, phi=np.pi / 2\n",
    "    )  # Use a beamsplitter gate on modes 0, 1\n",
    "\n",
    "    pq.Q(0) | pq.HomodyneMeasurement(phi=0)  # Measurement on mode 0."
   ]
  },
  {
   "cell_type": "markdown",
   "id": "0a093cd2",
   "metadata": {},
   "source": [
    "to create your first program in Piquasso. The instructions of the program are positioned in the `with` statement. On the left hand side, the `pq.Q` denotes the qumodes on which the instructions should be executed, the right hand side is for the actual operation, like `pq.Displacement` (stands for a displacement operation), which takes a complex argument as shown.\n",
    "\n",
    "Roughly the program translates to\n",
    "\n",
    "- Apply a displacement on mode 0. The displacement operation accepts `alpha` as a parameter. The Gaussian state will be displaced by the value: `alpha` in the phase space on the specified mode.\n",
    "\n",
    "- Apply a beamsplitter gate on the modes 0, 1.\n",
    "\n",
    "- Perform a homodyne measurement on mode 0 with $\\phi=0$ which means measuring the $x$ quadrature only.\n",
    "\n",
    "To execute your program, create a simulator to simulate your program with. For this example, we use `GaussianSimulator`. One should specify the number of modes, on which the state is initialized. You can also specify $\\hbar$ for your simulation in the simulator."
   ]
  },
  {
   "cell_type": "code",
   "execution_count": 2,
   "id": "09e048be",
   "metadata": {},
   "outputs": [],
   "source": [
    "simulator = pq.GaussianSimulator(\n",
    "    d=3, config=pq.Config(hbar=2)\n",
    ")  # Prepare a Gaussian vacuum state\n",
    "\n",
    "result = simulator.execute(program, shots=10)  # Apply the program with 3 shots."
   ]
  },
  {
   "cell_type": "markdown",
   "id": "14175450",
   "metadata": {},
   "source": [
    "After finishing the execution, you should be able to see the results of the simulation, which are phase space position and momentum expectation values. The generated samples are a list of tuples that has a length corresponding to the number of shots. Each tuple correspnds to the position and momentum measurements."
   ]
  },
  {
   "cell_type": "code",
   "execution_count": 3,
   "id": "8d872f86",
   "metadata": {},
   "outputs": [
    {
     "data": {
      "text/plain": [
       "[(3.4168422332862773, 16320.785088021246),\n",
       " (5.28128128234147, -21939.087578297764),\n",
       " (2.6823464556990437, -25680.93750083845),\n",
       " (1.9785214520668555, 20348.415213075612),\n",
       " (1.2914635648176238, -17285.401277892888),\n",
       " (2.088533421656983, -9988.585801845871),\n",
       " (3.1637825527284926, -8113.647825153105),\n",
       " (4.528800501260955, -12323.444626716877),\n",
       " (1.11948414913764, 964.0918692249029),\n",
       " (0.9422318222516874, -10503.374296293043)]"
      ]
     },
     "execution_count": 3,
     "metadata": {},
     "output_type": "execute_result"
    }
   ],
   "source": [
    "result.samples"
   ]
  },
  {
   "cell_type": "code",
   "execution_count": null,
   "id": "40a0de58",
   "metadata": {},
   "outputs": [],
   "source": []
  }
 ],
 "metadata": {
  "interpreter": {
   "hash": "9a666e8b1cfb18010a57d7338eef2aa07a864f68c70adc54bdde5a86d8f5ca55"
  },
  "kernelspec": {
   "display_name": "Python 3",
   "language": "python",
   "name": "python3"
  },
  "language_info": {
   "codemirror_mode": {
    "name": "ipython",
    "version": 3
   },
   "file_extension": ".py",
   "mimetype": "text/x-python",
   "name": "python",
   "nbconvert_exporter": "python",
   "pygments_lexer": "ipython3",
   "version": "3.8.10"
  }
 },
 "nbformat": 4,
 "nbformat_minor": 5
}
