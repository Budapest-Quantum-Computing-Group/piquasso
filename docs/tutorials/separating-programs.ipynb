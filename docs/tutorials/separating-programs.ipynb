{
 "cells": [
  {
   "cell_type": "markdown",
   "id": "8aa8903f",
   "metadata": {},
   "source": [
    "# Separating Programs\n",
    "\n",
    "With Piquasso, one could easily separate programs into multiple `with` statements:"
   ]
  },
  {
   "cell_type": "code",
   "execution_count": 1,
   "id": "25a54dc1",
   "metadata": {},
   "outputs": [
    {
     "data": {
      "text/plain": [
       "<Result samples=[(-1.017200627783451, 1.5609890986162434)]>"
      ]
     },
     "execution_count": 1,
     "metadata": {},
     "output_type": "execute_result"
    }
   ],
   "source": [
    "import piquasso as pq\n",
    "import numpy as np\n",
    "\n",
    "\n",
    "with pq.Program() as preparation:\n",
    "    pq.Q(0, 1) | pq.Squeezing2(r=1, phi=np.pi / 4)\n",
    "    pq.Q(2, 3) | pq.Squeezing2(r=2, phi=np.pi / 3)\n",
    "\n",
    "with pq.Program() as interferometer:\n",
    "    pq.Q(0, 1) | pq.Beamsplitter(theta=np.pi / 4, phi=np.pi / 3)\n",
    "    pq.Q(1) | pq.Phaseshifter(phi=np.pi / 2)\n",
    "    pq.Q(1, 2) | pq.Beamsplitter(theta=np.pi / 5, phi=np.pi / 6)\n",
    "\n",
    "with pq.Program() as executable_program:\n",
    "    pq.Q(all) | preparation\n",
    "\n",
    "    pq.Q(0, 1, 2) | interferometer\n",
    "    pq.Q(2, 3, 4) | interferometer\n",
    "\n",
    "    pq.Q(3) | pq.HeterodyneMeasurement()\n",
    "\n",
    "\n",
    "simulator = pq.GaussianSimulator(d=5)\n",
    "result = simulator.execute(executable_program)\n",
    "result"
   ]
  },
  {
   "cell_type": "markdown",
   "id": "be2a4757",
   "metadata": {},
   "source": [
    "Using this syntax, one could embed subprograms on different modes. In this example, the `interferometer` subprogram is embedded twice for two different sets of modes."
   ]
  }
 ],
 "metadata": {
  "interpreter": {
   "hash": "9a666e8b1cfb18010a57d7338eef2aa07a864f68c70adc54bdde5a86d8f5ca55"
  },
  "kernelspec": {
   "display_name": "Python 3",
   "language": "python",
   "name": "python3"
  },
  "language_info": {
   "codemirror_mode": {
    "name": "ipython",
    "version": 3
   },
   "file_extension": ".py",
   "mimetype": "text/x-python",
   "name": "python",
   "nbconvert_exporter": "python",
   "pygments_lexer": "ipython3",
   "version": "3.8.10"
  }
 },
 "nbformat": 4,
 "nbformat_minor": 5
}
