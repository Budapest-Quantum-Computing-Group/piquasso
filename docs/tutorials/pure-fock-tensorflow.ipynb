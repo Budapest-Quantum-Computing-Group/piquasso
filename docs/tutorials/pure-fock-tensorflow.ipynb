{
 "cells": [
  {
   "cell_type": "markdown",
   "metadata": {},
   "source": [
    "# Pure Fock simulation with Tensorflow"
   ]
  },
  {
   "cell_type": "code",
   "execution_count": 2,
   "metadata": {},
   "outputs": [
    {
     "data": {
      "text/plain": [
       "[<tf.Tensor: shape=(10,), dtype=float32, numpy=\n",
       " array([ 0.        ,  0.        ,  0.        ,  0.        , -0.8660257 ,\n",
       "         1.1336422 ,  0.59840894, -0.37098926, -0.39166376, -0.1033726 ],\n",
       "       dtype=float32)>,\n",
       " <tf.Tensor: shape=(10,), dtype=float32, numpy=\n",
       " array([ 0.        ,  0.        ,  0.        ,  0.        ,  0.        ,\n",
       "        -0.23776424,  0.23776422, -0.46685594,  0.22041947,  0.24643645],\n",
       "       dtype=float32)>]"
      ]
     },
     "execution_count": 2,
     "metadata": {},
     "output_type": "execute_result"
    }
   ],
   "source": [
    "import numpy as np\n",
    "import piquasso as pq\n",
    "import tensorflow as tf\n",
    "\n",
    "\n",
    "theta_1 = tf.Variable(np.pi / 3)\n",
    "theta_2 = tf.Variable(np.pi / 5)\n",
    "\n",
    "simulator = pq.TensorflowPureFockSimulator(d=3, config=pq.Config(cutoff=3))\n",
    "\n",
    "with pq.Program() as program:\n",
    "    pq.Q(all) | pq.StateVector((1, 1, 0))\n",
    "\n",
    "    pq.Q(0, 1) | pq.Beamsplitter(theta=theta_1)\n",
    "    pq.Q(1, 2) | pq.Beamsplitter(theta=theta_2)\n",
    "\n",
    "with tf.GradientTape() as tape:\n",
    "    state = simulator.execute(program).state\n",
    "\n",
    "    fock_probabilities = state.fock_probabilities\n",
    "\n",
    "tape.jacobian(fock_probabilities, [theta_1, theta_2])"
   ]
  },
  {
   "cell_type": "markdown",
   "metadata": {},
   "source": []
  }
 ],
 "metadata": {
  "kernelspec": {
   "display_name": "Python 3.8.10 ('.venv': venv)",
   "language": "python",
   "name": "python3"
  },
  "language_info": {
   "codemirror_mode": {
    "name": "ipython",
    "version": 3
   },
   "file_extension": ".py",
   "mimetype": "text/x-python",
   "name": "python",
   "nbconvert_exporter": "python",
   "pygments_lexer": "ipython3",
   "version": "3.8.10"
  },
  "orig_nbformat": 4,
  "vscode": {
   "interpreter": {
    "hash": "c95ba34a4f298ecad799e828cf91aef0abbe7e47377270a3962202d638804a48"
   }
  }
 },
 "nbformat": 4,
 "nbformat_minor": 2
}
